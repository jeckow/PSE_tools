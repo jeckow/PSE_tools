{
 "cells": [
  {
   "cell_type": "code",
   "execution_count": 1,
   "id": "ad67af12",
   "metadata": {},
   "outputs": [],
   "source": [
    "'''\n",
    "This is a simple implementation of aa 200-day and 50-day moving average for\n",
    "identifying golden crosses (buy signals) and death crosses (selling signals)\n",
    "\n",
    "Curretly PSEI API is does not work so the candlestick graph cannot be\n",
    "implemented yet. Hence a different API is used just for visualizing\n",
    "the moving averages\n",
    "'''\n",
    "\n",
    "import matplotlib.pyplot as plt\n",
    "from datetime import datetime\n",
    "import dask.delayed as de\n",
    "import pandas as pd\n",
    "import numpy as np\n",
    "import requests\n",
    "import json\n",
    "\n",
    "# set date range\n",
    "start_date = '2020-08-13'\n",
    "end_date = datetime.today().strftime('%Y-%m-%d')\n",
    "date_list = pd.date_range(start=start_date, end=end_date).to_list()\n",
    "\n",
    "# set stock symbol to monitor\n",
    "ticker = 'AREIT'"
   ]
  },
  {
   "cell_type": "code",
   "execution_count": 2,
   "id": "24c92d47",
   "metadata": {},
   "outputs": [],
   "source": [
    "# pull the data using phisix-api\n",
    "def get_data(date_list, stock_symbol):\n",
    "    stock_price = []\n",
    "    stock_dates = []\n",
    "    for date in date_list:\n",
    "        str_date = date.strftime('%Y-%m-%d')\n",
    "        url = f\"http://phisix-api.appspot.com/stocks/{ticker}.{str_date}.json\"\n",
    "        payload={}\n",
    "        headers = {}\n",
    "        response = requests.request(\"GET\", url, headers=headers, data=payload)\n",
    "    \n",
    "        if len(response.text) == 0:\n",
    "            pass\n",
    "        \n",
    "        else:\n",
    "            stock_info = json.loads(response.text)\n",
    "            stock_dates.append(date.date())\n",
    "            stock_price.append(stock_info['stock'][0]['price']['amount'])\n",
    "            print(stock_price[-1], stock_dates[-1])\n",
    "            \n",
    "       \n",
    "    return [stock_price, stock_dates]"
   ]
  },
  {
   "cell_type": "code",
   "execution_count": 3,
   "id": "473c4be8",
   "metadata": {},
   "outputs": [],
   "source": [
    "def combine(data_1, data_2, dates_1, dates_2):\n",
    "    data_1.extend(data_2)\n",
    "    dates_1.extend(dates_2)\n",
    "    \n",
    "    return data_1, dates_1"
   ]
  },
  {
   "cell_type": "code",
   "execution_count": 4,
   "id": "e5109215",
   "metadata": {},
   "outputs": [
    {
     "name": "stdout",
     "output_type": "stream",
     "text": [
      "pulling data...\n",
      "29.9 2020-12-17\n",
      "24.9 2020-08-13\n",
      "29.75 2020-12-18\n",
      "24.1 2020-08-14\n",
      "29.55 2020-12-21\n",
      "25.95 2020-08-17\n",
      "25.829.3 2020-08-18\n",
      " 2020-12-22\n",
      "25.95 2020-08-19\n",
      "29.2 2020-12-23\n",
      "25.9 2020-08-20\n",
      "29.25 2020-12-28\n",
      "25.7 2020-08-24\n",
      "29.35 2020-12-29\n",
      "25.8 2020-08-25\n",
      "26.05 2020-08-26\n",
      "25.75 2020-08-27\n",
      "25.6 2020-08-28\n",
      "29.25 2021-01-04\n",
      "29.0 2021-01-05\n",
      "25.5 2020-09-01\n",
      "28.95 2021-01-06\n",
      "25.4 2020-09-02\n",
      "29.25 2021-01-07\n",
      "25.45 2020-09-03\n",
      "29.5 2021-01-08\n",
      "25.25 2020-09-04\n",
      "25.55 2020-09-07\n",
      "30.0 2021-01-11\n",
      "25.8 2020-09-08\n",
      "29.95 2021-01-12\n",
      "25.8 2020-09-09\n",
      "30.05 2021-01-13\n",
      "25.75 2020-09-10\n",
      "29.9 2021-01-14\n",
      "25.7 2020-09-11\n",
      "30.15 2021-01-15\n",
      "30.85 2021-01-18\n",
      "25.65 2020-09-14\n",
      "25.65 2020-09-15\n",
      "31.6 2021-01-19\n",
      "25.7 2020-09-16\n",
      "32.05 2021-01-20\n",
      "25.8 2020-09-17\n",
      "31.9 2021-01-21\n",
      "25.95 2020-09-18\n",
      "31.6 2021-01-22\n",
      "25.65 2020-09-21\n",
      "32.0 2021-01-25\n",
      "25.6 2020-09-22\n",
      "31.75 2021-01-26\n",
      "25.65 2020-09-23\n",
      "31.5 2021-01-27\n",
      "25.6 2020-09-24\n",
      "31.8 2021-01-28\n",
      "25.55 2020-09-25\n",
      "32.0 2021-01-29\n",
      "25.6 2020-09-28\n",
      "32.0 2021-02-01\n",
      "25.7 2020-09-29\n",
      "32.9 2021-02-02\n",
      "25.8 2020-09-30\n",
      "32.5 2021-02-03\n",
      "25.95 2020-10-01\n",
      "32.3 2021-02-04\n",
      "25.9 2020-10-02\n",
      "32.6 2021-02-05\n",
      "25.7 2020-10-05\n",
      "32.9 2021-02-08\n",
      "25.6 2020-10-06\n",
      "32.75 2021-02-09\n",
      "25.65 2020-10-07\n",
      "33.0 2021-02-10\n",
      "25.65 2020-10-08\n",
      "33.1 2021-02-11\n",
      "25.6 2020-10-09\n",
      "25.65 2020-10-12\n",
      "33.85 2021-02-15\n",
      "34.0 2021-02-16\n",
      "25.7 2020-10-13\n",
      "34.0 2021-02-17\n",
      "25.7 2020-10-14\n",
      "34.2 2021-02-18\n",
      "25.65 2020-10-15\n",
      "34.45 2021-02-19\n",
      "25.8 2020-10-16\n",
      "34.7 2021-02-22\n",
      "25.7 2020-10-19\n",
      "34.2 2021-02-23\n",
      "25.65 2020-10-20\n",
      "33.9 2021-02-24\n",
      "25.75 2020-10-21\n",
      "25.7 2020-10-22\n",
      "25.65 2020-10-23\n",
      "33.7 2021-02-26\n",
      "25.7 2020-10-26\n",
      "33.9 2021-03-01\n",
      "25.7 2020-10-27\n",
      "34.4 2021-03-02\n",
      "25.75 2020-10-28\n",
      "34.25 2021-03-03\n",
      "25.65 2020-10-29\n",
      "33.95 2021-03-04\n",
      "25.55 2020-10-30\n",
      "33.95 2021-03-05\n",
      "33.55 2021-03-08\n",
      "25.6 2020-11-03\n",
      "33.05 2021-03-09\n",
      "25.65 2020-11-04\n",
      "33.0 2021-03-10\n",
      "25.6 2020-11-05\n",
      "32.2 2021-03-11\n",
      "25.6 2020-11-06\n",
      "32.1 2021-03-12\n",
      "31.75 2021-03-15\n",
      "25.75 2020-11-09\n",
      "32.5 2021-03-16\n",
      "25.9 2020-11-10\n",
      "32.8 2021-03-17\n",
      "25.95 2020-11-11\n",
      "33.05 2021-03-18\n",
      "32.65 2021-03-19\n",
      "26.0 2020-11-13\n",
      "32.5 2021-03-22\n",
      "26.2 2020-11-16\n",
      "32.8 2021-03-23\n",
      "26.1 2020-11-17\n",
      "33.0 2021-03-24\n",
      "26.5 2020-11-18\n",
      "33.15 2021-03-25\n",
      "26.55 2020-11-19\n",
      "27.0 2020-11-20\n",
      "33.2 2021-03-26\n",
      "33.45 2021-03-29\n",
      "27.45 2020-11-23\n",
      "27.25 2020-11-24\n",
      "33.7 2021-03-30\n",
      "27.35 2020-11-25\n",
      "34.0 2021-03-31\n",
      "27.3 2020-11-26\n",
      "27.35 2020-11-27\n",
      "34.65 2021-04-05\n",
      "27.75 2020-12-01\n",
      "34.85 2021-04-06\n",
      "34.9 2021-04-07\n",
      "27.55 2020-12-02\n",
      "34.5 2021-04-08\n",
      "27.5 2020-12-03\n",
      "27.55 2020-12-04\n",
      "34.0 2021-04-12\n",
      "27.55 2020-12-07\n",
      "33.9 2021-04-13\n",
      "34.0 2021-04-14\n",
      "27.7 2020-12-09\n",
      "33.9 2021-04-15\n",
      "28.1 2020-12-10\n",
      "33.9 2021-04-16\n",
      "29.0 2020-12-11\n",
      "33.5 2021-04-19\n",
      "29.0 2020-12-14\n",
      "33.7 2021-04-20\n",
      "29.8 2020-12-15\n",
      "34.0 2021-04-21\n",
      "29.9 2020-12-16\n",
      "34.0 2021-04-22\n",
      "34.05 2021-04-23\n",
      "done\n"
     ]
    }
   ],
   "source": [
    "stock_data_1 = de(get_data)(date_list[:126], ticker)\n",
    "stock_data_2 = de(get_data)(date_list[126:], ticker)\n",
    "\n",
    "print('pulling data...')\n",
    "stock_data = de(combine)(stock_data_1[0], stock_data_2[0], stock_data_1[1], stock_data_2[1]).compute()\n",
    "print('done')"
   ]
  },
  {
   "cell_type": "code",
   "execution_count": 7,
   "id": "542dadcd",
   "metadata": {},
   "outputs": [
    {
     "data": {
      "text/plain": [
       "[<matplotlib.lines.Line2D at 0x2709e62c8e0>]"
      ]
     },
     "execution_count": 7,
     "metadata": {},
     "output_type": "execute_result"
    },
    {
     "data": {
      "image/png": "[encoded data removed]",
      "text/plain": [
       "<Figure size 432x288 with 1 Axes>"
      ]
     },
     "metadata": {
      "needs_background": "light"
     },
     "output_type": "display_data"
    }
   ],
   "source": [
    "prices = np.array(stock_data).T\n",
    "df = pd.DataFrame(prices)\n",
    "df.columns = ['close', 'date']\n",
    "plt.plot(df.date, df.close)"
   ]
  },
  {
   "cell_type": "code",
   "execution_count": 9,
   "id": "7f49455b",
   "metadata": {},
   "outputs": [],
   "source": [
    "mean_50 = df.close.rolling(window=50).mean()\n",
    "mean_200 = df.close.rolling(window=200).mean()"
   ]
  },
  {
   "cell_type": "code",
   "execution_count": 10,
   "id": "25bf423d",
   "metadata": {},
   "outputs": [
    {
     "name": "stdout",
     "output_type": "stream",
     "text": [
      "0         NaN\n",
      "1         NaN\n",
      "2         NaN\n",
      "3         NaN\n",
      "4         NaN\n",
      "        ...  \n",
      "161    33.481\n",
      "162    33.497\n",
      "163    33.527\n",
      "164    33.561\n",
      "165    33.590\n",
      "Name: close, Length: 166, dtype: float64\n"
     ]
    }
   ],
   "source": [
    "print(mean_50)"
   ]
  },
  {
   "cell_type": "code",
   "execution_count": 11,
   "id": "e280b1a4",
   "metadata": {},
   "outputs": [
    {
     "data": {
      "image/png": "[encoded data removed]",
      "text/plain": [
       "<Figure size 432x288 with 1 Axes>"
      ]
     },
     "metadata": {
      "needs_background": "light"
     },
     "output_type": "display_data"
    }
   ],
   "source": [
    "plt.plot(df.date, df.close, label=f'{ticker}')\n",
    "plt.plot(df.date, mean_50, label='50-day SMA', color='red')\n",
    "plt.plot(df.date, mean_200, label='200-day SMA', color='yellow')\n",
    "plt.legend(loc='upper left')\n",
    "plt.show()"
   ]
  },
  {
   "cell_type": "code",
   "execution_count": null,
   "id": "e0d6d31e",
   "metadata": {},
   "outputs": [],
   "source": []
  }
 ],
 "metadata": {
  "kernelspec": {
   "display_name": "Python 3",
   "language": "python",
   "name": "python3"
  },
  "language_info": {
   "codemirror_mode": {
    "name": "ipython",
    "version": 3
   },
   "file_extension": ".py",
   "mimetype": "text/x-python",
   "name": "python",
   "nbconvert_exporter": "python",
   "pygments_lexer": "ipython3",
   "version": "3.8.8"
  }
 },
 "nbformat": 4,
 "nbformat_minor": 5
}
